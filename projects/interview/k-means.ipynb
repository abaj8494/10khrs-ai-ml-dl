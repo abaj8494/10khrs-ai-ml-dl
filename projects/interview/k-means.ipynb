{
 "cells": [
  {
   "cell_type": "code",
   "execution_count": null,
   "id": "d56bdde4-ef09-4c8a-8d23-f708cc5e23b5",
   "metadata": {},
   "outputs": [],
   "source": [
    "'''\n",
    "algorithm:\n",
    "\n",
    "1. for each \n",
    "\n",
    "'''"
   ]
  }
 ],
 "metadata": {
  "kernelspec": {
   "display_name": "metal",
   "language": "python",
   "name": "metal"
  },
  "language_info": {
   "codemirror_mode": {
    "name": "ipython",
    "version": 3
   },
   "file_extension": ".py",
   "mimetype": "text/x-python",
   "name": "python",
   "nbconvert_exporter": "python",
   "pygments_lexer": "ipython3",
   "version": "3.11.11"
  }
 },
 "nbformat": 4,
 "nbformat_minor": 5
}
