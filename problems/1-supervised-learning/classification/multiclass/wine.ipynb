{
 "cells": [
  {
   "cell_type": "markdown",
   "id": "ca26ead8-dc86-46c2-b3b3-a650fd415df3",
   "metadata": {},
   "source": [
    "# decision trees"
   ]
  },
  {
   "cell_type": "markdown",
   "id": "36bc2d39-e632-477c-8b2b-b4145e3c4916",
   "metadata": {},
   "source": [
    "# ensembles"
   ]
  },
  {
   "cell_type": "markdown",
   "id": "632ed73f-beab-4f4f-b59a-7511cb847035",
   "metadata": {},
   "source": [
    "# log-reg"
   ]
  },
  {
   "cell_type": "markdown",
   "id": "a1f1c486-5370-4c03-a7fb-93355b605bfe",
   "metadata": {},
   "source": [
    "# svm"
   ]
  },
  {
   "cell_type": "code",
   "execution_count": null,
   "id": "3f8ad1b7-1865-4c7c-96a5-1346f9357d3e",
   "metadata": {},
   "outputs": [],
   "source": []
  }
 ],
 "metadata": {
  "kernelspec": {
   "display_name": "Python 3 (ipykernel)",
   "language": "python",
   "name": "python3"
  },
  "language_info": {
   "codemirror_mode": {
    "name": "ipython",
    "version": 3
   },
   "file_extension": ".py",
   "mimetype": "text/x-python",
   "name": "python",
   "nbconvert_exporter": "python",
   "pygments_lexer": "ipython3",
   "version": "3.12.9"
  }
 },
 "nbformat": 4,
 "nbformat_minor": 5
}
